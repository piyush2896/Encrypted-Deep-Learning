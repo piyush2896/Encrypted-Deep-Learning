{
 "cells": [
  {
   "cell_type": "markdown",
   "metadata": {},
   "source": [
    "# An Overview of Taylor Series\n",
    "A Taylor Series allows one to compute a complicated (nonlinear) function using an infinite series of additions, subtractions, multiplications, and divisions. This is perfect! (except for the infinite part). Fortunately, if you stop short of computing the exact Taylor Series Expansion you can still get a close approximation of the function at hand. Here are a few popular functions approximated via Taylor Series ([Source](http://hyperphysics.phy-astr.gsu.edu/hbase/tayser.html)).\n",
    "![Taylor Series](http://iamtrask.github.io/img/taylor_series.gif)"
   ]
  },
  {
   "cell_type": "markdown",
   "metadata": {},
   "source": [
    "## Our Imports"
   ]
  },
  {
   "cell_type": "code",
   "execution_count": 1,
   "metadata": {
    "collapsed": true
   },
   "outputs": [],
   "source": [
    "import numpy as np"
   ]
  },
  {
   "cell_type": "code",
   "execution_count": 2,
   "metadata": {
    "collapsed": true
   },
   "outputs": [],
   "source": [
    "def check_func(exact, approx):\n",
    "    for lil_number in [0.1,0.2,0.3,0.4,0.5,0.6,0.7,0.8,0.9,1.0]:\n",
    "        print(\"\\nInput:\" + str(lil_number))\n",
    "        print(\"Exact:\" + str(exact(lil_number)))\n",
    "        print(\"Approx:\" + str(approx(lil_number)))"
   ]
  },
  {
   "cell_type": "markdown",
   "metadata": {},
   "source": [
    "## Exponential Function"
   ]
  },
  {
   "cell_type": "code",
   "execution_count": 3,
   "metadata": {
    "collapsed": true
   },
   "outputs": [],
   "source": [
    "def exponential(x):\n",
    "    return np.exp(x)\n",
    "\n",
    "def exponential_approx(x):\n",
    "    return (1 + x + (x**2 / 2) + (x**3 / 6) + (x**4 / 24) + (x**5 / 120) + (x**6/720))"
   ]
  },
  {
   "cell_type": "code",
   "execution_count": 4,
   "metadata": {
    "collapsed": false
   },
   "outputs": [
    {
     "name": "stdout",
     "output_type": "stream",
     "text": [
      "\n",
      "Input:0.1\n",
      "Exact:1.10517091808\n",
      "Approx:1.1051709180555553\n",
      "\n",
      "Input:0.2\n",
      "Exact:1.22140275816\n",
      "Approx:1.2214027555555556\n",
      "\n",
      "Input:0.3\n",
      "Exact:1.34985880758\n",
      "Approx:1.3498587625\n",
      "\n",
      "Input:0.4\n",
      "Exact:1.49182469764\n",
      "Approx:1.4918243555555555\n",
      "\n",
      "Input:0.5\n",
      "Exact:1.6487212707\n",
      "Approx:1.6487196180555554\n",
      "\n",
      "Input:0.6\n",
      "Exact:1.82211880039\n",
      "Approx:1.8221128000000002\n",
      "\n",
      "Input:0.7\n",
      "Exact:2.01375270747\n",
      "Approx:2.0137348180555557\n",
      "\n",
      "Input:0.8\n",
      "Exact:2.22554092849\n",
      "Approx:2.2254947555555558\n",
      "\n",
      "Input:0.9\n",
      "Exact:2.45960311116\n",
      "Approx:2.4594963625\n",
      "\n",
      "Input:1.0\n",
      "Exact:2.71828182846\n",
      "Approx:2.7180555555555554\n"
     ]
    }
   ],
   "source": [
    "check_func(exponential, exponential_approx)"
   ]
  },
  {
   "cell_type": "markdown",
   "metadata": {},
   "source": [
    "## Sigmoid Function"
   ]
  },
  {
   "cell_type": "code",
   "execution_count": 5,
   "metadata": {
    "collapsed": true
   },
   "outputs": [],
   "source": [
    "def sigmoid_exact(x):\n",
    "    return 1 / (1 + np.exp(-x))\n",
    "\n",
    "# using taylor series\n",
    "def sigmoid_approx(x):\n",
    "    return (1 / 2) + (x / 4) - (x**3 / 48) + (x**5 / 480)"
   ]
  },
  {
   "cell_type": "code",
   "execution_count": 6,
   "metadata": {
    "collapsed": false
   },
   "outputs": [
    {
     "name": "stdout",
     "output_type": "stream",
     "text": [
      "\n",
      "Input:0.1\n",
      "Exact:0.524979187479\n",
      "Approx:0.5249791874999999\n",
      "\n",
      "Input:0.2\n",
      "Exact:0.549833997312\n",
      "Approx:0.549834\n",
      "\n",
      "Input:0.3\n",
      "Exact:0.574442516812\n",
      "Approx:0.5744425624999999\n",
      "\n",
      "Input:0.4\n",
      "Exact:0.598687660112\n",
      "Approx:0.598688\n",
      "\n",
      "Input:0.5\n",
      "Exact:0.622459331202\n",
      "Approx:0.6224609375000001\n",
      "\n",
      "Input:0.6\n",
      "Exact:0.645656306226\n",
      "Approx:0.6456620000000001\n",
      "\n",
      "Input:0.7\n",
      "Exact:0.668187772168\n",
      "Approx:0.6682043125000001\n",
      "\n",
      "Input:0.8\n",
      "Exact:0.689974481128\n",
      "Approx:0.690016\n",
      "\n",
      "Input:0.9\n",
      "Exact:0.710949502625\n",
      "Approx:0.7110426875\n",
      "\n",
      "Input:1.0\n",
      "Exact:0.73105857863\n",
      "Approx:0.73125\n"
     ]
    }
   ],
   "source": [
    "check_func(sigmoid_exact, sigmoid_approx)"
   ]
  },
  {
   "cell_type": "markdown",
   "metadata": {},
   "source": [
    "## Hyperbolic Tangent"
   ]
  },
  {
   "cell_type": "code",
   "execution_count": 7,
   "metadata": {
    "collapsed": true
   },
   "outputs": [],
   "source": [
    "def tanh_exact(x):\n",
    "    return np.tanh(x)\n",
    "\n",
    "def tanh_approx(x):\n",
    "    ex = exponential_approx(x)\n",
    "    e_x = exponential_approx(-x)\n",
    "    return (ex - e_x) / (ex + e_x)"
   ]
  },
  {
   "cell_type": "code",
   "execution_count": 8,
   "metadata": {
    "collapsed": false
   },
   "outputs": [
    {
     "name": "stdout",
     "output_type": "stream",
     "text": [
      "\n",
      "Input:0.1\n",
      "Exact:0.099667994625\n",
      "Approx:0.09966799460523507\n",
      "\n",
      "Input:0.2\n",
      "Exact:0.197375320225\n",
      "Approx:0.19737531774608907\n",
      "\n",
      "Input:0.3\n",
      "Exact:0.291312612452\n",
      "Approx:0.29131257134276883\n",
      "\n",
      "Input:0.4\n",
      "Exact:0.379948962255\n",
      "Approx:0.3799486666079048\n",
      "\n",
      "Input:0.5\n",
      "Exact:0.46211715726\n",
      "Approx:0.462115817632455\n",
      "\n",
      "Input:0.6\n",
      "Exact:0.537049566998\n",
      "Approx:0.5370450476471339\n",
      "\n",
      "Input:0.7\n",
      "Exact:0.604367777117\n",
      "Approx:0.6043553620295777\n",
      "\n",
      "Input:0.8\n",
      "Exact:0.664036770268\n",
      "Approx:0.6640074608057799\n",
      "\n",
      "Input:0.9\n",
      "Exact:0.716297870199\n",
      "Approx:0.716236283031437\n",
      "\n",
      "Input:1.0\n",
      "Exact:0.761594155956\n",
      "Approx:0.7614761476147613\n"
     ]
    }
   ],
   "source": [
    "check_func(tanh_exact, tanh_approx)"
   ]
  }
 ],
 "metadata": {
  "kernelspec": {
   "display_name": "Python 3",
   "language": "python",
   "name": "python3"
  },
  "language_info": {
   "codemirror_mode": {
    "name": "ipython",
    "version": 3
   },
   "file_extension": ".py",
   "mimetype": "text/x-python",
   "name": "python",
   "nbconvert_exporter": "python",
   "pygments_lexer": "ipython3",
   "version": "3.5.1"
  }
 },
 "nbformat": 4,
 "nbformat_minor": 2
}
