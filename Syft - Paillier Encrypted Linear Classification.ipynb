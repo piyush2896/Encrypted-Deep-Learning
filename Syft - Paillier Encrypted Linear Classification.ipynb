{
 "cells": [
  {
   "cell_type": "markdown",
   "metadata": {},
   "source": [
    "# Paillier Encrypted Linear Classification Example\n",
    "\n",
    "DISCLAIMER: This is a proof-of-concept implementation. It does not represent a remotely product ready implementation or follow proper conventions for security, convenience, or scalability. It is part of a broader proof-of-concept demonstrating the vision of the OpenMined project, its major moving parts, and how they might work together."
   ]
  },
  {
   "cell_type": "code",
   "execution_count": 1,
   "metadata": {},
   "outputs": [],
   "source": [
    "from syft.he.paillier import KeyPair\n",
    "from syft.nn.linear import LinearClassifier\n",
    "from syft.he.keys import Paillier\n",
    "import numpy as np"
   ]
  },
  {
   "cell_type": "code",
   "execution_count": 14,
   "metadata": {},
   "outputs": [],
   "source": [
    "pk, sk = Paillier()\n",
    "model = LinearClassifier(n_inputs=4, n_labels=2)\n",
    "epochs = 7"
   ]
  },
  {
   "cell_type": "code",
   "execution_count": 15,
   "metadata": {},
   "outputs": [],
   "source": [
    "model = model.encrypt(pk)"
   ]
  },
  {
   "cell_type": "code",
   "execution_count": 16,
   "metadata": {},
   "outputs": [],
   "source": [
    "input = np.array([[0, 0, 1, 1], [0, 0, 1, 0],\n",
    "                  [1, 0, 1, 0], [1, 1, 1, 0],\n",
    "                  [1, 1, 1, 1], [0, 1, 0, 0],\n",
    "                  [0, 0, 0, 1], [1, 1, 0, 0]])\n",
    "target = np.array([[0, 1], [0, 0], [0, 0], [1, 0],\n",
    "                   [1, 1], [0, 0], [0, 0], [1, 1]])"
   ]
  },
  {
   "cell_type": "code",
   "execution_count": 17,
   "metadata": {},
   "outputs": [],
   "source": [
    "for i in range(epochs):\n",
    "    model.learn(input, target, alpha=0.5)"
   ]
  },
  {
   "cell_type": "code",
   "execution_count": 18,
   "metadata": {},
   "outputs": [],
   "source": [
    "model = model.decrypt(sk)"
   ]
  },
  {
   "cell_type": "code",
   "execution_count": 19,
   "metadata": {},
   "outputs": [
    {
     "name": "stdout",
     "output_type": "stream",
     "text": [
      "BaseTensor: [ 0.15200239 -0.18976009]\n",
      "BaseTensor: [ 0.0411275  -0.39429592]\n",
      "BaseTensor: [ 0.3728073  -0.50965046]\n",
      "BaseTensor: [ 0.78579267 -0.62647284]\n",
      "BaseTensor: [ 0.89666756 -0.421937  ]\n",
      "BaseTensor: [ 0.41298537 -0.11682237]\n",
      "BaseTensor: [ 0.11087489  0.20453583]\n",
      "BaseTensor: [ 0.74466517 -0.23217692]\n"
     ]
    }
   ],
   "source": [
    "for value in input:\n",
    "    print(model.forward(value))"
   ]
  },
  {
   "cell_type": "markdown",
   "metadata": {},
   "source": [
    "Note: Dicuss about the issues at hand and what openMined is doing about it."
   ]
  }
 ],
 "metadata": {
  "kernelspec": {
   "display_name": "Python 3",
   "language": "python",
   "name": "python3"
  },
  "language_info": {
   "codemirror_mode": {
    "name": "ipython",
    "version": 3
   },
   "file_extension": ".py",
   "mimetype": "text/x-python",
   "name": "python",
   "nbconvert_exporter": "python",
   "pygments_lexer": "ipython3",
   "version": "3.5.2"
  }
 },
 "nbformat": 4,
 "nbformat_minor": 2
}
